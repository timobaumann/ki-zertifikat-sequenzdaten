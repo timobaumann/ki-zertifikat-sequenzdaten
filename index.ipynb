{
 "cells": [
  {
   "cell_type": "markdown",
   "id": "3cd02ffd-85b7-4dc9-a613-6196b92d4699",
   "metadata": {},
   "source": [
    "1. [Intro](PyTorch.py) zur automatischen Berechnung von partiellen Ableitungen und dem Gradientenabstiegsverfahren mit PyTorch\n",
    "2. [einfache PyTorch-Module für]"
   ]
  }
 ],
 "metadata": {
  "kernelspec": {
   "display_name": "",
   "name": ""
  },
  "language_info": {
   "name": ""
  }
 },
 "nbformat": 4,
 "nbformat_minor": 5
}
