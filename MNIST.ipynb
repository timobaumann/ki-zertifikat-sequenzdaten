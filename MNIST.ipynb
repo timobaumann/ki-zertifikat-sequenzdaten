{
 "cells": [
  {
   "cell_type": "markdown",
   "id": "72da59d8-ad65-442d-80ea-5cb3703810c5",
   "metadata": {},
   "source": [
    "# Timo's attempts at an MNIST classifier\n",
    "My goal here is twofold: \n",
    " * try to simply copy-paste my pre-existing (DyNet-based) MNIST code and log minimal adaptations necessary\n",
    " * adapt the code to make it more torchy"
   ]
  },
  {
   "cell_type": "code",
   "execution_count": 19,
   "id": "0f03eafa-9028-41f2-86b4-2778ee556462",
   "metadata": {},
   "outputs": [],
   "source": [
    "import time\n",
    "import random\n",
    "import os\n",
    "import struct\n",
    "import numpy as np\n",
    "import torch\n",
    "import torch.nn as nn\n",
    "import ipywidgets as widgets\n",
    "import PIL.Image"
   ]
  },
  {
   "cell_type": "code",
   "execution_count": 20,
   "id": "918099da-113d-411e-8cc9-bdcadd5709f6",
   "metadata": {},
   "outputs": [],
   "source": [
    "import matplotlib.pyplot as plt\n",
    "from collections import defaultdict\n",
    "# we will often repeatedly use some code for plotting. We define this once to be re-used later.\n",
    "def plot(plot_data):\n",
    "    plt.figure(\"evolution over training iterations\")\n",
    "    for type in plot_data.keys():\n",
    "       plt.plot(plot_data[type], label=type)\n",
    "    plt.legend(loc='upper right')"
   ]
  },
  {
   "cell_type": "code",
   "execution_count": 21,
   "id": "77bafc86-06d9-4dfd-aeb5-19eaec5517a9",
   "metadata": {},
   "outputs": [],
   "source": [
    "# minimally adapted from https://gist.github.com/akesling/5358964\n",
    "def read_mnist(dataset, path=\"mnist\"):\n",
    "    if dataset == \"training\":\n",
    "        fname_img = os.path.join(path, \"train-images-idx3-ubyte\")\n",
    "        fname_lbl = os.path.join(path, \"train-labels-idx1-ubyte\")\n",
    "    elif dataset == \"testing\":\n",
    "        fname_img = os.path.join(path, \"t10k-images-idx3-ubyte\")\n",
    "        fname_lbl = os.path.join(path, \"t10k-labels-idx1-ubyte\")\n",
    "    else:\n",
    "        raise ValueError(\"dataset must be 'testing' or 'training'\")\n",
    "\n",
    "    # Load everything in some numpy arrays\n",
    "    with open(fname_lbl, \"rb\") as flbl:\n",
    "        magic, num = struct.unpack(\">II\", flbl.read(8))\n",
    "        labels = np.fromfile(flbl, dtype=np.int8)\n",
    "\n",
    "    with open(fname_img, \"rb\") as fimg:\n",
    "        magic, num, rows, cols = struct.unpack(\">IIII\", fimg.read(16))\n",
    "        images = np.multiply(\n",
    "            np.fromfile(fimg, dtype=np.uint8).reshape(len(labels), rows*cols),\n",
    "            1.0 / 255.0)\n",
    "\n",
    "    get_instance = lambda idx: (labels[idx], images[idx])\n",
    "\n",
    "    # Create an iterator which returns each image in turn\n",
    "    for i in range(len(labels)):\n",
    "        yield get_instance(i)\n",
    "        \n",
    "training = [(lbl, img) for (lbl, img) in read_mnist(\"training\")]\n",
    "testing = [(lbl, img) for (lbl, img) in read_mnist(\"testing\")]"
   ]
  },
  {
   "cell_type": "code",
   "execution_count": 22,
   "id": "31190f92-5493-4147-846c-62cb796efffb",
   "metadata": {
    "scrolled": true
   },
   "outputs": [
    {
     "data": {
      "text/plain": [
       "5"
      ]
     },
     "metadata": {},
     "output_type": "display_data"
    },
    {
     "data": {
      "application/vnd.jupyter.widget-view+json": {
       "model_id": "f632413f29b24e799fb95a3ce70e9155",
       "version_major": 2,
       "version_minor": 0
      },
      "text/plain": [
       "Image(value=b'\\x89PNG\\r\\n\\x1a\\n\\x00\\x00\\x00\\rIHDR\\x00\\x00\\x00\\x1c\\x00\\x00\\x00\\x1c\\x08\\x00\\x00\\x00\\x00Wf\\x80H\\x…"
      ]
     },
     "metadata": {},
     "output_type": "display_data"
    },
    {
     "data": {
      "text/plain": [
       "0"
      ]
     },
     "metadata": {},
     "output_type": "display_data"
    },
    {
     "data": {
      "application/vnd.jupyter.widget-view+json": {
       "model_id": "13b347b0f192456e9170798d5b6cddff",
       "version_major": 2,
       "version_minor": 0
      },
      "text/plain": [
       "Image(value=b'\\x89PNG\\r\\n\\x1a\\n\\x00\\x00\\x00\\rIHDR\\x00\\x00\\x00\\x1c\\x00\\x00\\x00\\x1c\\x08\\x00\\x00\\x00\\x00Wf\\x80H\\x…"
      ]
     },
     "metadata": {},
     "output_type": "display_data"
    },
    {
     "data": {
      "text/plain": [
       "4"
      ]
     },
     "metadata": {},
     "output_type": "display_data"
    },
    {
     "data": {
      "application/vnd.jupyter.widget-view+json": {
       "model_id": "2b138ad71b704f78abfe2f7a332aecaf",
       "version_major": 2,
       "version_minor": 0
      },
      "text/plain": [
       "Image(value=b'\\x89PNG\\r\\n\\x1a\\n\\x00\\x00\\x00\\rIHDR\\x00\\x00\\x00\\x1c\\x00\\x00\\x00\\x1c\\x08\\x00\\x00\\x00\\x00Wf\\x80H\\x…"
      ]
     },
     "metadata": {},
     "output_type": "display_data"
    },
    {
     "data": {
      "text/plain": [
       "1"
      ]
     },
     "metadata": {},
     "output_type": "display_data"
    },
    {
     "data": {
      "application/vnd.jupyter.widget-view+json": {
       "model_id": "47bbaa50c9cf4c0bb4a3d1600995185d",
       "version_major": 2,
       "version_minor": 0
      },
      "text/plain": [
       "Image(value=b'\\x89PNG\\r\\n\\x1a\\n\\x00\\x00\\x00\\rIHDR\\x00\\x00\\x00\\x1c\\x00\\x00\\x00\\x1c\\x08\\x00\\x00\\x00\\x00Wf\\x80H\\x…"
      ]
     },
     "metadata": {},
     "output_type": "display_data"
    },
    {
     "data": {
      "text/plain": [
       "9"
      ]
     },
     "metadata": {},
     "output_type": "display_data"
    },
    {
     "data": {
      "application/vnd.jupyter.widget-view+json": {
       "model_id": "17f154c1bc9c4129a18f14d43419f166",
       "version_major": 2,
       "version_minor": 0
      },
      "text/plain": [
       "Image(value=b'\\x89PNG\\r\\n\\x1a\\n\\x00\\x00\\x00\\rIHDR\\x00\\x00\\x00\\x1c\\x00\\x00\\x00\\x1c\\x08\\x00\\x00\\x00\\x00Wf\\x80H\\x…"
      ]
     },
     "metadata": {},
     "output_type": "display_data"
    },
    {
     "data": {
      "text/plain": [
       "2"
      ]
     },
     "metadata": {},
     "output_type": "display_data"
    },
    {
     "data": {
      "application/vnd.jupyter.widget-view+json": {
       "model_id": "1a67643dbf124b53afc6d495a529f1ae",
       "version_major": 2,
       "version_minor": 0
      },
      "text/plain": [
       "Image(value=b'\\x89PNG\\r\\n\\x1a\\n\\x00\\x00\\x00\\rIHDR\\x00\\x00\\x00\\x1c\\x00\\x00\\x00\\x1c\\x08\\x00\\x00\\x00\\x00Wf\\x80H\\x…"
      ]
     },
     "metadata": {},
     "output_type": "display_data"
    },
    {
     "data": {
      "text/plain": [
       "1"
      ]
     },
     "metadata": {},
     "output_type": "display_data"
    },
    {
     "data": {
      "application/vnd.jupyter.widget-view+json": {
       "model_id": "b8d6929cc4524a7e8619c12f59848e5b",
       "version_major": 2,
       "version_minor": 0
      },
      "text/plain": [
       "Image(value=b'\\x89PNG\\r\\n\\x1a\\n\\x00\\x00\\x00\\rIHDR\\x00\\x00\\x00\\x1c\\x00\\x00\\x00\\x1c\\x08\\x00\\x00\\x00\\x00Wf\\x80H\\x…"
      ]
     },
     "metadata": {},
     "output_type": "display_data"
    },
    {
     "data": {
      "text/plain": [
       "3"
      ]
     },
     "metadata": {},
     "output_type": "display_data"
    },
    {
     "data": {
      "application/vnd.jupyter.widget-view+json": {
       "model_id": "3392b75cf7354c5f8233b445367766d7",
       "version_major": 2,
       "version_minor": 0
      },
      "text/plain": [
       "Image(value=b'\\x89PNG\\r\\n\\x1a\\n\\x00\\x00\\x00\\rIHDR\\x00\\x00\\x00\\x1c\\x00\\x00\\x00\\x1c\\x08\\x00\\x00\\x00\\x00Wf\\x80H\\x…"
      ]
     },
     "metadata": {},
     "output_type": "display_data"
    },
    {
     "data": {
      "text/plain": [
       "1"
      ]
     },
     "metadata": {},
     "output_type": "display_data"
    },
    {
     "data": {
      "application/vnd.jupyter.widget-view+json": {
       "model_id": "7e98a6a1a1084689a204cfeae5f32970",
       "version_major": 2,
       "version_minor": 0
      },
      "text/plain": [
       "Image(value=b'\\x89PNG\\r\\n\\x1a\\n\\x00\\x00\\x00\\rIHDR\\x00\\x00\\x00\\x1c\\x00\\x00\\x00\\x1c\\x08\\x00\\x00\\x00\\x00Wf\\x80H\\x…"
      ]
     },
     "metadata": {},
     "output_type": "display_data"
    },
    {
     "data": {
      "text/plain": [
       "4"
      ]
     },
     "metadata": {},
     "output_type": "display_data"
    },
    {
     "data": {
      "application/vnd.jupyter.widget-view+json": {
       "model_id": "374b5b5dd5004d9bb04b581bbcac4276",
       "version_major": 2,
       "version_minor": 0
      },
      "text/plain": [
       "Image(value=b'\\x89PNG\\r\\n\\x1a\\n\\x00\\x00\\x00\\rIHDR\\x00\\x00\\x00\\x1c\\x00\\x00\\x00\\x1c\\x08\\x00\\x00\\x00\\x00Wf\\x80H\\x…"
      ]
     },
     "metadata": {},
     "output_type": "display_data"
    }
   ],
   "source": [
    "import io\n",
    "# print some examples (pairs of target number and image)\n",
    "for i in range(10):\n",
    "    buffer = io.BytesIO()\n",
    "    PIL.Image.fromarray((256*training[i][1]).reshape(28, 28)).convert('L').save(buffer, format=\"PNG\")\n",
    "    display(training[i][0], widgets.Image(value=buffer.getvalue(),width=28,height=28))"
   ]
  },
  {
   "cell_type": "code",
   "execution_count": 23,
   "id": "e9324f8c-d313-42b1-b665-07ddb93615f7",
   "metadata": {},
   "outputs": [],
   "source": [
    "HIDDEN_DIM1 = 64\n",
    "HIDDEN_DIM2 = 64\n",
    "DROPOUT_RATE = 0.5"
   ]
  },
  {
   "cell_type": "code",
   "execution_count": 24,
   "id": "64108ce7-553f-4ece-be83-1c4102938f1d",
   "metadata": {},
   "outputs": [],
   "source": [
    "class MNISTClassify(nn.Module):\n",
    "    def __init__(self):\n",
    "        super(MNISTClassify, self).__init__()\n",
    "        input_size = 28 * 28\n",
    "        self.W1 = nn.Parameter(nn.init.xavier_uniform_(torch.empty(input_size, HIDDEN_DIM1)))\n",
    "        self.b1 = nn.Parameter(nn.init.xavier_uniform_(torch.empty(1, HIDDEN_DIM1)))\n",
    "        self.W2 = nn.Parameter(nn.init.xavier_uniform_(torch.empty(HIDDEN_DIM1, HIDDEN_DIM2)))\n",
    "        self.b2 = nn.Parameter(nn.init.xavier_uniform_(torch.empty(1, HIDDEN_DIM2)))\n",
    "        self.W3 = nn.Parameter(nn.init.xavier_uniform_(torch.empty(HIDDEN_DIM2, 10)))\n",
    "        self.b3 = nn.Parameter(nn.init.xavier_uniform_(torch.empty(1, 10)))\n",
    "        \n",
    "    def forward(self, x, isTrain=False):\n",
    "        # erste innere Schicht:\n",
    "        h1 = nn.functional.sigmoid(x @ self.W1 + self.b1)\n",
    "        # zweite innere Schicht:\n",
    "        h2 = nn.functional.sigmoid(h1 @ self.W2 + self.b2)\n",
    "        # Ergebnisschicht:\n",
    "        activation = nn.functional.sigmoid(h2 @ self.W3 + self.b3, dim=1)\n",
    "        return activation"
   ]
  },
  {
   "cell_type": "code",
   "execution_count": 25,
   "id": "52dfe965-5466-4000-965b-6893eea70987",
   "metadata": {},
   "outputs": [],
   "source": [
    "class MNISTClassify(nn.Module):\n",
    "    \"\"\"probably a more torchy version, considerably easier than the DyNet version.\"\"\"\n",
    "    def __init__(self):\n",
    "        super(MNISTClassify, self).__init__()\n",
    "        input_size = 28 * 28\n",
    "        self.l1 = nn.Linear(input_size, HIDDEN_DIM1)\n",
    "        self.l2 = nn.Linear(HIDDEN_DIM1, HIDDEN_DIM2)\n",
    "        self.l3 = nn.Linear(HIDDEN_DIM2, 10)\n",
    "\n",
    "    def forward(self, x, isTrain=False):\n",
    "        return nn.functional.log_softmax(self.l3(nn.functional.sigmoid(self.l2(nn.functional.sigmoid(self.l1(x))))))\n"
   ]
  },
  {
   "cell_type": "code",
   "execution_count": 28,
   "id": "51d2157b-9860-4162-9261-4752a6ae0a34",
   "metadata": {},
   "outputs": [
    {
     "name": "stdout",
     "output_type": "stream",
     "text": [
      "Epoch 1 starting\n"
     ]
    },
    {
     "name": "stderr",
     "output_type": "stream",
     "text": [
      "/tmp/ipykernel_149344/2207645818.py:11: UserWarning: Implicit dimension choice for log_softmax has been deprecated. Change the call to include dim=X as an argument.\n",
      "  return nn.functional.log_softmax(self.l3(nn.functional.sigmoid(self.l2(nn.functional.sigmoid(self.l1(x))))))\n"
     ]
    },
    {
     "name": "stdout",
     "output_type": "stream",
     "text": [
      "Held out accuracy 0.9545 (12709.076271050344 instances/sec)\n",
      "   T0    T1    T2    T3    T4    T5    T6    T7    T8    T9    \n",
      "P0 968   0     7     0     0     5     10    2     8     7     \n",
      "P1 0     1113  4     0     0     2     3     7     2     3     \n",
      "P2 1     2     970   5     4     0     3     23    4     0     \n",
      "P3 2     4     28    984   1     12    2     29    21    12    \n",
      "P4 0     0     3     0     952   1     7     2     4     30    \n",
      "P5 4     1     2     9     1     862   10    1     30    8     \n",
      "P6 3     3     3     0     10    4     922   0     9     0     \n",
      "P7 1     2     2     3     1     0     0     952   2     10    \n",
      "P8 1     10    13    6     1     1     1     2     888   5     \n",
      "P9 0     0     0     3     12    5     0     10    6     934   \n",
      "instances per sec: 1311.1720470502837\n",
      "Epoch 2 starting\n",
      "Held out accuracy 0.965 (12683.192933246002 instances/sec)\n",
      "   T0    T1    T2    T3    T4    T5    T6    T7    T8    T9    \n",
      "P0 963   0     5     0     2     3     7     2     4     5     \n",
      "P1 0     1116  3     1     0     0     3     4     0     3     \n",
      "P2 1     3     979   3     2     0     1     10    4     0     \n",
      "P3 2     2     14    983   1     19    1     4     6     7     \n",
      "P4 0     0     1     0     936   0     1     0     3     9     \n",
      "P5 4     1     1     5     1     851   7     1     3     2     \n",
      "P6 4     3     5     1     15    3     931   0     4     0     \n",
      "P7 1     0     10    5     2     1     0     981   2     5     \n",
      "P8 4     10    13    10    4     11    7     2     941   9     \n",
      "P9 1     0     1     2     19    4     0     24    7     969   \n",
      "instances per sec: 1302.1806115303555\n",
      "Epoch 3 starting\n",
      "Held out accuracy 0.9671 (12728.8585463204 instances/sec)\n",
      "   T0    T1    T2    T3    T4    T5    T6    T7    T8    T9    \n",
      "P0 967   0     4     0     1     4     9     2     2     3     \n",
      "P1 0     1126  2     0     1     2     3     6     1     5     \n",
      "P2 2     2     1002  12    2     0     1     10    4     0     \n",
      "P3 1     1     2     979   0     23    0     3     17    9     \n",
      "P4 0     0     4     1     955   1     8     1     2     23    \n",
      "P5 3     1     0     1     0     841   3     0     2     5     \n",
      "P6 5     2     0     0     5     7     930   0     5     0     \n",
      "P7 1     0     11    11    7     3     0     1000  8     16    \n",
      "P8 1     3     7     5     4     9     4     0     931   8     \n",
      "P9 0     0     0     1     7     2     0     6     2     940   \n",
      "instances per sec: 1298.7028164930562\n",
      "Epoch 4 starting\n",
      "Held out accuracy 0.9697 (12769.506412451954 instances/sec)\n",
      "   T0    T1    T2    T3    T4    T5    T6    T7    T8    T9    \n",
      "P0 962   0     5     0     0     2     4     1     3     2     \n",
      "P1 0     1124  2     2     0     1     2     6     1     2     \n",
      "P2 2     5     1003  11    2     1     1     16    6     0     \n",
      "P3 0     1     0     971   1     9     0     4     6     4     \n",
      "P4 0     0     4     0     949   2     4     2     4     11    \n",
      "P5 5     0     0     8     0     855   4     0     5     1     \n",
      "P6 5     2     4     0     5     10    939   0     4     1     \n",
      "P7 3     0     6     6     1     2     0     978   2     5     \n",
      "P8 2     3     8     6     3     8     4     3     939   6     \n",
      "P9 1     0     0     6     21    2     0     18    4     977   \n",
      "instances per sec: 1296.9363930578395\n"
     ]
    },
    {
     "data": {
      "image/png": "[encoded data removed]",
      "text/plain": [
       "<Figure size 432x288 with 1 Axes>"
      ]
     },
     "metadata": {
      "needs_background": "light"
     },
     "output_type": "display_data"
    }
   ],
   "source": [
    "classify = MNISTClassify().float()\n",
    "learning_rate = 0.01\n",
    "#optimizer = torch.optim.SGD(classify.parameters(), lr = learning_rate)\n",
    "optimizer = torch.optim.Adam(classify.parameters())\n",
    "#loss = nn.CrossEntropyLoss\n",
    "dev_time = 0\n",
    "plot_data = defaultdict(lambda : [])\n",
    "\n",
    "start = time.time()\n",
    "for epoch in range(1,5):\n",
    "    print((\"Epoch {} starting\".format(epoch)))\n",
    "    random.shuffle(training)\n",
    "    # train model:\n",
    "    for cls, img in training:\n",
    "        optimizer.zero_grad()\n",
    "        # Bild als Eingabe aufbereiten\n",
    "        x = torch.tensor(img).float()\n",
    "        # Outputaktivierung berechnen\n",
    "        output = classify(x, isTrain=True)\n",
    "        # \"idealen\" Output (überall 0, nur gewählte Klasse ist 1)\n",
    "        target = torch.zeros(10).long()\n",
    "        target[cls] = 1.0\n",
    "        # Kostenfunktion berechnen\n",
    "        #loss = torch.sum((output - target) ** 2)\n",
    "        loss  = nn.functional.nll_loss(output, torch.tensor(cls).long())\n",
    "        # Kosten den einzelnen Parametern zuordnen\n",
    "        plot_data[\"error\"].append(loss.item())\n",
    "        loss.backward()\n",
    "        # Parameter entsprechend anpassen\n",
    "        optimizer.step()\n",
    "\n",
    "    # test performance of classifier:\n",
    "    confusion = [[0 for _ in range(10)] for _ in range(10)]\n",
    "    correct = 0\n",
    "    dev_start = time.time()\n",
    "    for cls, img in testing:\n",
    "        optimizer.zero_grad()\n",
    "        x = torch.tensor(img).float()\n",
    "        output = classify(x, isTrain=False)\n",
    "        prediction = int(torch.topk(output, 1)[1].item())\n",
    "        if cls == prediction:\n",
    "            correct += 1\n",
    "        confusion[prediction][cls] += 1\n",
    "    dev_end = time.time()\n",
    "    acc = float(correct) / len(testing)\n",
    "    dev_time += dev_end - dev_start\n",
    "    print((\"Held out accuracy {} ({} instances/sec)\".format(\n",
    "        acc, len(testing) / (dev_end - dev_start))))\n",
    "    print('   ' + ''.join(('T'+str(x)).ljust(6) for x in range(10)))\n",
    "    for p, row in enumerate(confusion):\n",
    "        s = 'P' + str(p) + ' '\n",
    "        s += ''.join(str(col).ljust(6) for col in row)\n",
    "        print(s)\n",
    "\n",
    "    end = time.time()\n",
    "    print((\"instances per sec: {}\".format(\n",
    "                (epoch * len(training)) / (end - start - dev_time))))\n",
    "\n",
    "plot(plot_data)"
   ]
  },
  {
   "cell_type": "markdown",
   "id": "dc8f2fd5-c72a-4816-9b9f-4b46eb844b4d",
   "metadata": {},
   "source": [
    "Notes on differences between DyNet and PyTorch: \n",
    "* in DyNet, I register parameters without specifying the tensor that will be used for it; it will be automatically assigned.\n",
    "    * In PyTorch, I register a specific tensor. Smart as I am, I didn't assign a zeros-tensor -- instead I have to ponder about parameter initialization.\n",
    "    * It turns out that DyNet uses Glorot/Xavier initialization and some aspect of it depends on the following non-linearity. (wow!)\n",
    "    * I'll (roughly) replace with what DyNet does → yields pretty much identical results\n",
    "* instead of `*` for matrix multiplication, one has to write `@`. Okay.\n",
    "* Something that I did not quite understand about float() and double() with tensors.\n",
    "* DyNet is 5 times faster than PyTorch, wow! (I wonder what is causing this.)\n",
    "    * it's not the manually defined loss function\n",
    "    * it's not the use of parameters myself over using nn.Linear layers (which is still a little slower)"
   ]
  },
  {
   "cell_type": "code",
   "execution_count": 5,
   "id": "dbf63709-76c2-4fbe-9e8e-800f890b0ff5",
   "metadata": {},
   "outputs": [
    {
     "name": "stderr",
     "output_type": "stream",
     "text": [
      "[dynet] random seed: 1054449114\n",
      "[dynet] allocating memory: 512MB\n",
      "[dynet] memory allocation done.\n"
     ]
    },
    {
     "name": "stdout",
     "output_type": "stream",
     "text": [
      "Epoch 1 starting\n",
      "Held out accuracy 0.95 (13516.539965002627 instances/sec)\n",
      "   T0    T1    T2    T3    T4    T5    T6    T7    T8    T9    \n",
      "P0 970   0     10    1     3     11    15    2     5     9     \n",
      "P1 0     1114  2     0     0     0     3     7     1     6     \n",
      "P2 2     4     990   15    3     2     1     13    5     1     \n",
      "P3 1     3     4     947   0     18    1     2     13    7     \n",
      "P4 0     0     3     1     946   1     2     1     3     42    \n",
      "P5 3     1     0     10    0     825   6     1     7     14    \n",
      "P6 1     5     6     0     8     7     922   0     7     0     \n",
      "P7 2     2     9     15    7     3     1     1001  11    49    \n",
      "P8 1     6     8     20    4     23    7     0     922   18    \n",
      "P9 0     0     0     1     11    2     0     1     0     863   \n",
      "instances per sec: 8257.331566533325\n",
      "Epoch 2 starting\n",
      "Held out accuracy 0.9621 (13458.776899558723 instances/sec)\n",
      "   T0    T1    T2    T3    T4    T5    T6    T7    T8    T9    \n",
      "P0 969   0     6     1     1     4     9     1     5     1     \n",
      "P1 0     1105  0     0     1     1     2     4     1     4     \n",
      "P2 2     5     1007  16    4     3     5     12    5     2     \n",
      "P3 1     3     2     964   0     8     0     2     11    6     \n",
      "P4 0     0     1     2     950   0     5     2     3     24    \n",
      "P5 2     2     0     10    0     855   6     2     9     12    \n",
      "P6 4     1     3     0     6     5     923   0     3     2     \n",
      "P7 1     6     8     8     3     0     1     993   11    17    \n",
      "P8 1     13    5     9     4     13    7     1     922   8     \n",
      "P9 0     0     0     0     13    3     0     11    4     933   \n",
      "instances per sec: 8220.989827360456\n",
      "Epoch 3 starting\n",
      "Held out accuracy 0.9669 (13351.766816229147 instances/sec)\n",
      "   T0    T1    T2    T3    T4    T5    T6    T7    T8    T9    \n",
      "P0 965   0     5     0     2     3     6     2     3     2     \n",
      "P1 0     1122  2     0     2     1     3     6     1     10    \n",
      "P2 2     1     995   4     2     1     1     9     2     0     \n",
      "P3 2     3     7     971   1     10    1     5     6     7     \n",
      "P4 0     0     3     1     952   2     2     3     4     27    \n",
      "P5 2     2     1     5     1     852   4     2     6     5     \n",
      "P6 3     1     3     0     7     9     933   0     1     1     \n",
      "P7 2     1     7     10    4     1     1     997   3     12    \n",
      "P8 4     5     8     17    6     11    7     0     947   10    \n",
      "P9 0     0     1     2     5     2     0     4     1     935   \n",
      "instances per sec: 8212.925582626229\n",
      "Epoch 4 starting\n",
      "Held out accuracy 0.9649 (13447.38091642677 instances/sec)\n",
      "   T0    T1    T2    T3    T4    T5    T6    T7    T8    T9    \n",
      "P0 966   0     7     0     2     4     4     2     5     4     \n",
      "P1 0     1124  1     0     0     1     2     5     2     5     \n",
      "P2 2     3     1012  8     4     1     2     20    3     1     \n",
      "P3 4     2     3     988   1     24    1     6     11    13    \n",
      "P4 0     0     0     0     909   2     0     1     4     5     \n",
      "P5 0     1     0     1     0     844   4     0     6     6     \n",
      "P6 5     4     3     0     15    9     943   0     7     2     \n",
      "P7 1     0     3     6     5     2     0     971   3     5     \n",
      "P8 2     1     2     6     7     3     2     0     932   8     \n",
      "P9 0     0     1     1     39    2     0     23    1     960   \n",
      "instances per sec: 8203.387139847362\n"
     ]
    }
   ],
   "source": [
    "import dynet as dy\n",
    "dy.sigmoid = dy.logistic\n",
    "\n",
    "class MNISTClassify(object):\n",
    "    def __init__(self, m):\n",
    "        input_size = 28 * 28\n",
    "        self.W1 = m.add_parameters((HIDDEN_DIM1, input_size))\n",
    "        self.b1 = m.add_parameters((HIDDEN_DIM1, ))\n",
    "        self.W2 = m.add_parameters((HIDDEN_DIM2, HIDDEN_DIM1))\n",
    "        self.b2 = m.add_parameters((HIDDEN_DIM2, ))\n",
    "        self.W3 = m.add_parameters((10, HIDDEN_DIM2))\n",
    "        self.b3 = m.add_parameters((10, ))\n",
    "\n",
    "    def __call__(self, x, isTrain=False):\n",
    "        # erste innere Schicht:\n",
    "        h1 = dy.sigmoid(self.W1 * x + self.b1)\n",
    "        # zweite innere Schicht:\n",
    "        h2 = dy.sigmoid(self.W2 * h1 + self.b2)\n",
    "        # Ergebnisschicht:\n",
    "        activation = dy.sigmoid(self.W3 * h2 + self.b3)\n",
    "        return activation\n",
    "\n",
    "m = dy.Model()\n",
    "classify = MNISTClassify(m)\n",
    "#sgd = dy.SimpleSGDTrainer(m, learning_rate=0.01)\n",
    "sgd = dy.AdamTrainer(m)\n",
    "dev_time = 0\n",
    "\n",
    "start = time.time()\n",
    "for epoch in range(1,5):\n",
    "    random.shuffle(training)\n",
    "    print((\"Epoch {} starting\".format(epoch)))\n",
    "    # train model:\n",
    "    for cls, img in training:\n",
    "        dy.renew_cg()\n",
    "        # Bild als Eingabe aufbereiten\n",
    "        x = dy.inputVector(img)\n",
    "        # Outputaktivierung berechnen\n",
    "        output = classify(x, isTrain=True)\n",
    "        # \"idealen\" Output (überall 0, nur gewählte Klasse ist 1)\n",
    "        target = np.zeros(10)\n",
    "        target[cls] = 1\n",
    "        target = dy.inputVector(target)\n",
    "        # Kostenfunktion berechnen\n",
    "        loss = 0.5 * dy.sum_elems((output - target) ** 2)\n",
    "        # Kosten den einzelnen Parametern zuordnen\n",
    "        loss.backward()\n",
    "        # Parameter entsprechend anpassen\n",
    "        sgd.update()\n",
    "\n",
    "    # test performance of classifier:\n",
    "    confusion = [[0 for _ in range(10)] for _ in range(10)]\n",
    "    correct = 0\n",
    "    dev_start = time.time()\n",
    "    for cls, img in testing:\n",
    "        dy.renew_cg()\n",
    "        x = dy.inputVector(img)\n",
    "        output = classify(x, isTrain=False)\n",
    "        prediction = max([(v,i) for (i,v) in enumerate(output.value())])[1]\n",
    "        if cls == prediction:\n",
    "            correct += 1\n",
    "        confusion[prediction][cls] += 1\n",
    "    dev_end = time.time()\n",
    "    acc = float(correct) / len(testing)\n",
    "    dev_time += dev_end - dev_start\n",
    "    print((\"Held out accuracy {} ({} instances/sec)\".format(\n",
    "        acc, len(testing) / (dev_end - dev_start))))\n",
    "    print('   ' + ''.join(('T'+str(x)).ljust(6) for x in range(10)))\n",
    "    for p, row in enumerate(confusion):\n",
    "        s = 'P' + str(p) + ' '\n",
    "        s += ''.join(str(col).ljust(6) for col in row)\n",
    "        print(s)\n",
    "\n",
    "    end = time.time()\n",
    "    print((\"instances per sec: {}\".format(\n",
    "                (epoch * len(training)) / (end - start - dev_time))))"
   ]
  },
  {
   "cell_type": "code",
   "execution_count": null,
   "id": "1949e6e6-aed5-4536-bfae-b142e654e120",
   "metadata": {},
   "outputs": [],
   "source": []
  }
 ],
 "metadata": {
  "kernelspec": {
   "display_name": "Python 3 (ipykernel)",
   "language": "python",
   "name": "python3"
  },
  "language_info": {
   "codemirror_mode": {
    "name": "ipython",
    "version": 3
   },
   "file_extension": ".py",
   "mimetype": "text/x-python",
   "name": "python",
   "nbconvert_exporter": "python",
   "pygments_lexer": "ipython3",
   "version": "3.10.12"
  }
 },
 "nbformat": 4,
 "nbformat_minor": 5
}
