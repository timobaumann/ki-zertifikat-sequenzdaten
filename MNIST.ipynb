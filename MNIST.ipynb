{
 "cells": [
  {
   "cell_type": "markdown",
   "id": "72da59d8-ad65-442d-80ea-5cb3703810c5",
   "metadata": {},
   "source": [
    "# Timo's attempts at an MNIST classifier\n",
    "My goal here is twofold: \n",
    " * try to simply copy-paste my pre-existing (DyNet-based) MNIST code and log minimal adaptations necessary\n",
    " * adapt the code to make it more torchy"
   ]
  },
  {
   "cell_type": "code",
   "execution_count": 1,
   "id": "0f03eafa-9028-41f2-86b4-2778ee556462",
   "metadata": {},
   "outputs": [],
   "source": [
    "import time\n",
    "import random\n",
    "import os\n",
    "import struct\n",
    "import numpy as np\n",
    "import torch\n",
    "import torch.nn as nn\n",
    "import ipywidgets as widgets\n",
    "import PIL.Image"
   ]
  },
  {
   "cell_type": "code",
   "execution_count": 2,
   "id": "918099da-113d-411e-8cc9-bdcadd5709f6",
   "metadata": {},
   "outputs": [],
   "source": [
    "import matplotlib.pyplot as plt\n",
    "from collections import defaultdict\n",
    "# we will often repeatedly use some code for plotting. We define this once to be re-used later.\n",
    "def plot(plot_data):\n",
    "    plt.figure(\"evolution over training iterations\")\n",
    "    for type in plot_data.keys():\n",
    "       plt.plot(plot_data[type], label=type)\n",
    "    plt.legend(loc='upper right')"
   ]
  },
  {
   "cell_type": "code",
   "execution_count": 6,
   "id": "77bafc86-06d9-4dfd-aeb5-19eaec5517a9",
   "metadata": {},
   "outputs": [],
   "source": [
    "# minimally adapted from https://gist.github.com/akesling/5358964\n",
    "def read_mnist(dataset, path=\"data/MNIST/raw/\"):\n",
    "    if dataset == \"training\":\n",
    "        fname_img = os.path.join(path, \"train-images-idx3-ubyte\")\n",
    "        fname_lbl = os.path.join(path, \"train-labels-idx1-ubyte\")\n",
    "    elif dataset == \"testing\":\n",
    "        fname_img = os.path.join(path, \"t10k-images-idx3-ubyte\")\n",
    "        fname_lbl = os.path.join(path, \"t10k-labels-idx1-ubyte\")\n",
    "    else:\n",
    "        raise ValueError(\"dataset must be 'testing' or 'training'\")\n",
    "\n",
    "    # Load everything in some numpy arrays\n",
    "    with open(fname_lbl, \"rb\") as flbl:\n",
    "        magic, num = struct.unpack(\">II\", flbl.read(8))\n",
    "        labels = np.fromfile(flbl, dtype=np.int8)\n",
    "\n",
    "    with open(fname_img, \"rb\") as fimg:\n",
    "        magic, num, rows, cols = struct.unpack(\">IIII\", fimg.read(16))\n",
    "        images = np.multiply(\n",
    "            np.fromfile(fimg, dtype=np.uint8).reshape(len(labels), rows*cols),\n",
    "            1.0 / 255.0)\n",
    "\n",
    "    get_instance = lambda idx: (labels[idx], images[idx])\n",
    "\n",
    "    # Create an iterator which returns each image in turn\n",
    "    for i in range(len(labels)):\n",
    "        yield get_instance(i)\n",
    "        \n",
    "training = [(lbl, img) for (lbl, img) in read_mnist(\"training\")]\n",
    "testing = [(lbl, img) for (lbl, img) in read_mnist(\"testing\")]"
   ]
  },
  {
   "cell_type": "code",
   "execution_count": 7,
   "id": "31190f92-5493-4147-846c-62cb796efffb",
   "metadata": {
    "scrolled": true
   },
   "outputs": [
    {
     "data": {
      "text/plain": [
       "5"
      ]
     },
     "metadata": {},
     "output_type": "display_data"
    },
    {
     "data": {
      "application/vnd.jupyter.widget-view+json": {
       "model_id": "8ecc398e2fb74aee9588d2d2d39d82e0",
       "version_major": 2,
       "version_minor": 0
      },
      "text/plain": [
       "Image(value=b'\\x89PNG\\r\\n\\x1a\\n\\x00\\x00\\x00\\rIHDR\\x00\\x00\\x00\\x1c\\x00\\x00\\x00\\x1c\\x08\\x00\\x00\\x00\\x00Wf\\x80H\\x…"
      ]
     },
     "metadata": {},
     "output_type": "display_data"
    },
    {
     "data": {
      "text/plain": [
       "0"
      ]
     },
     "metadata": {},
     "output_type": "display_data"
    },
    {
     "data": {
      "application/vnd.jupyter.widget-view+json": {
       "model_id": "991f647480ec41a59b796714401413ee",
       "version_major": 2,
       "version_minor": 0
      },
      "text/plain": [
       "Image(value=b'\\x89PNG\\r\\n\\x1a\\n\\x00\\x00\\x00\\rIHDR\\x00\\x00\\x00\\x1c\\x00\\x00\\x00\\x1c\\x08\\x00\\x00\\x00\\x00Wf\\x80H\\x…"
      ]
     },
     "metadata": {},
     "output_type": "display_data"
    },
    {
     "data": {
      "text/plain": [
       "4"
      ]
     },
     "metadata": {},
     "output_type": "display_data"
    },
    {
     "data": {
      "application/vnd.jupyter.widget-view+json": {
       "model_id": "19d2f7f9419d45eba277fec25417f3dc",
       "version_major": 2,
       "version_minor": 0
      },
      "text/plain": [
       "Image(value=b'\\x89PNG\\r\\n\\x1a\\n\\x00\\x00\\x00\\rIHDR\\x00\\x00\\x00\\x1c\\x00\\x00\\x00\\x1c\\x08\\x00\\x00\\x00\\x00Wf\\x80H\\x…"
      ]
     },
     "metadata": {},
     "output_type": "display_data"
    },
    {
     "data": {
      "text/plain": [
       "1"
      ]
     },
     "metadata": {},
     "output_type": "display_data"
    },
    {
     "data": {
      "application/vnd.jupyter.widget-view+json": {
       "model_id": "cc515a9aab8a45c7a6f9dc1377bf8190",
       "version_major": 2,
       "version_minor": 0
      },
      "text/plain": [
       "Image(value=b'\\x89PNG\\r\\n\\x1a\\n\\x00\\x00\\x00\\rIHDR\\x00\\x00\\x00\\x1c\\x00\\x00\\x00\\x1c\\x08\\x00\\x00\\x00\\x00Wf\\x80H\\x…"
      ]
     },
     "metadata": {},
     "output_type": "display_data"
    },
    {
     "data": {
      "text/plain": [
       "9"
      ]
     },
     "metadata": {},
     "output_type": "display_data"
    },
    {
     "data": {
      "application/vnd.jupyter.widget-view+json": {
       "model_id": "a1ef42080ffe453498797e8ca8de24b2",
       "version_major": 2,
       "version_minor": 0
      },
      "text/plain": [
       "Image(value=b'\\x89PNG\\r\\n\\x1a\\n\\x00\\x00\\x00\\rIHDR\\x00\\x00\\x00\\x1c\\x00\\x00\\x00\\x1c\\x08\\x00\\x00\\x00\\x00Wf\\x80H\\x…"
      ]
     },
     "metadata": {},
     "output_type": "display_data"
    },
    {
     "data": {
      "text/plain": [
       "2"
      ]
     },
     "metadata": {},
     "output_type": "display_data"
    },
    {
     "data": {
      "application/vnd.jupyter.widget-view+json": {
       "model_id": "8261d90cecab478a929c823d72b5ee83",
       "version_major": 2,
       "version_minor": 0
      },
      "text/plain": [
       "Image(value=b'\\x89PNG\\r\\n\\x1a\\n\\x00\\x00\\x00\\rIHDR\\x00\\x00\\x00\\x1c\\x00\\x00\\x00\\x1c\\x08\\x00\\x00\\x00\\x00Wf\\x80H\\x…"
      ]
     },
     "metadata": {},
     "output_type": "display_data"
    },
    {
     "data": {
      "text/plain": [
       "1"
      ]
     },
     "metadata": {},
     "output_type": "display_data"
    },
    {
     "data": {
      "application/vnd.jupyter.widget-view+json": {
       "model_id": "526d0b82b8614549bd785aa5deb6a355",
       "version_major": 2,
       "version_minor": 0
      },
      "text/plain": [
       "Image(value=b'\\x89PNG\\r\\n\\x1a\\n\\x00\\x00\\x00\\rIHDR\\x00\\x00\\x00\\x1c\\x00\\x00\\x00\\x1c\\x08\\x00\\x00\\x00\\x00Wf\\x80H\\x…"
      ]
     },
     "metadata": {},
     "output_type": "display_data"
    },
    {
     "data": {
      "text/plain": [
       "3"
      ]
     },
     "metadata": {},
     "output_type": "display_data"
    },
    {
     "data": {
      "application/vnd.jupyter.widget-view+json": {
       "model_id": "32176b6a13f74cd9886e70b43d98b6da",
       "version_major": 2,
       "version_minor": 0
      },
      "text/plain": [
       "Image(value=b'\\x89PNG\\r\\n\\x1a\\n\\x00\\x00\\x00\\rIHDR\\x00\\x00\\x00\\x1c\\x00\\x00\\x00\\x1c\\x08\\x00\\x00\\x00\\x00Wf\\x80H\\x…"
      ]
     },
     "metadata": {},
     "output_type": "display_data"
    },
    {
     "data": {
      "text/plain": [
       "1"
      ]
     },
     "metadata": {},
     "output_type": "display_data"
    },
    {
     "data": {
      "application/vnd.jupyter.widget-view+json": {
       "model_id": "9ec78f75e10d487d838f3a74f9c87010",
       "version_major": 2,
       "version_minor": 0
      },
      "text/plain": [
       "Image(value=b'\\x89PNG\\r\\n\\x1a\\n\\x00\\x00\\x00\\rIHDR\\x00\\x00\\x00\\x1c\\x00\\x00\\x00\\x1c\\x08\\x00\\x00\\x00\\x00Wf\\x80H\\x…"
      ]
     },
     "metadata": {},
     "output_type": "display_data"
    },
    {
     "data": {
      "text/plain": [
       "4"
      ]
     },
     "metadata": {},
     "output_type": "display_data"
    },
    {
     "data": {
      "application/vnd.jupyter.widget-view+json": {
       "model_id": "1daf40d0127049dc92b00622c034bf12",
       "version_major": 2,
       "version_minor": 0
      },
      "text/plain": [
       "Image(value=b'\\x89PNG\\r\\n\\x1a\\n\\x00\\x00\\x00\\rIHDR\\x00\\x00\\x00\\x1c\\x00\\x00\\x00\\x1c\\x08\\x00\\x00\\x00\\x00Wf\\x80H\\x…"
      ]
     },
     "metadata": {},
     "output_type": "display_data"
    }
   ],
   "source": [
    "import io\n",
    "# print some examples (pairs of target number and image)\n",
    "for i in range(10):\n",
    "    buffer = io.BytesIO()\n",
    "    PIL.Image.fromarray((256*training[i][1]).reshape(28, 28)).convert('L').save(buffer, format=\"PNG\")\n",
    "    display(training[i][0], widgets.Image(value=buffer.getvalue(),width=28,height=28))"
   ]
  },
  {
   "cell_type": "code",
   "execution_count": 8,
   "id": "e9324f8c-d313-42b1-b665-07ddb93615f7",
   "metadata": {},
   "outputs": [],
   "source": [
    "HIDDEN_DIM1 = 64\n",
    "HIDDEN_DIM2 = 64\n",
    "DROPOUT_RATE = 0.5"
   ]
  },
  {
   "cell_type": "code",
   "execution_count": 24,
   "id": "64108ce7-553f-4ece-be83-1c4102938f1d",
   "metadata": {},
   "outputs": [],
   "source": [
    "class MNISTClassify(nn.Module):\n",
    "    def __init__(self):\n",
    "        super(MNISTClassify, self).__init__()\n",
    "        input_size = 28 * 28\n",
    "        self.W1 = nn.Parameter(nn.init.xavier_uniform_(torch.empty(input_size, HIDDEN_DIM1)))\n",
    "        self.b1 = nn.Parameter(nn.init.xavier_uniform_(torch.empty(1, HIDDEN_DIM1)))\n",
    "        self.W2 = nn.Parameter(nn.init.xavier_uniform_(torch.empty(HIDDEN_DIM1, HIDDEN_DIM2)))\n",
    "        self.b2 = nn.Parameter(nn.init.xavier_uniform_(torch.empty(1, HIDDEN_DIM2)))\n",
    "        self.W3 = nn.Parameter(nn.init.xavier_uniform_(torch.empty(HIDDEN_DIM2, 10)))\n",
    "        self.b3 = nn.Parameter(nn.init.xavier_uniform_(torch.empty(1, 10)))\n",
    "        \n",
    "    def forward(self, x, isTrain=False):\n",
    "        # erste innere Schicht:\n",
    "        h1 = nn.functional.sigmoid(x @ self.W1 + self.b1)\n",
    "        # zweite innere Schicht:\n",
    "        h2 = nn.functional.sigmoid(h1 @ self.W2 + self.b2)\n",
    "        # Ergebnisschicht:\n",
    "        activation = nn.functional.sigmoid(h2 @ self.W3 + self.b3, dim=1)\n",
    "        return activation"
   ]
  },
  {
   "cell_type": "code",
   "execution_count": 25,
   "id": "52dfe965-5466-4000-965b-6893eea70987",
   "metadata": {},
   "outputs": [],
   "source": [
    "class MNISTClassify(nn.Module):\n",
    "    \"\"\"probably a more torchy version, considerably easier than the DyNet version.\"\"\"\n",
    "    def __init__(self):\n",
    "        super(MNISTClassify, self).__init__()\n",
    "        input_size = 28 * 28\n",
    "        self.l1 = nn.Linear(input_size, HIDDEN_DIM1)\n",
    "        self.l2 = nn.Linear(HIDDEN_DIM1, HIDDEN_DIM2)\n",
    "        self.l3 = nn.Linear(HIDDEN_DIM2, 10)\n",
    "\n",
    "    def forward(self, x, isTrain=False):\n",
    "        return nn.functional.log_softmax(self.l3(nn.functional.sigmoid(self.l2(nn.functional.sigmoid(self.l1(x))))))\n"
   ]
  },
  {
   "cell_type": "code",
   "execution_count": 26,
   "id": "79bee91c-0c24-4b13-bc26-06c5e6df3629",
   "metadata": {},
   "outputs": [],
   "source": [
    "import torch.nn.functional as F\n",
    "class MNISTClassify(nn.Module):\n",
    "    \"\"\"works much better with CNNs.\n",
    "    shamefully stolen/borrowed from https://github.com/mbjoseph/pytorch-mnist/blob/master/cnn-mnist.ipynb\n",
    "    \"\"\"\n",
    "    def __init__(self):\n",
    "        super(MNISTClassify, self).__init__()\n",
    "        self.conv1 = nn.Conv2d(1, 10, kernel_size=5)\n",
    "        self.conv2 = nn.Conv2d(10, 20, kernel_size=5)\n",
    "        self.conv2_drop = nn.Dropout2d()\n",
    "        self.fc1 = nn.Linear(320, 120)\n",
    "        self.fc1_drop = nn.Dropout()\n",
    "        self.fc2 = nn.Linear(120, 10)\n",
    "        \n",
    "    def forward(self, x, isTrain=False):\n",
    "        x = x.reshape((1,1,28,28))\n",
    "        x = F.relu(F.max_pool2d(self.conv1(x), 2))\n",
    "        x = F.relu(F.max_pool2d(self.conv2_drop(self.conv2(x)), 2))\n",
    "        x = x.view(-1, self.num_flat_features(x))\n",
    "        x = F.relu(self.fc1_drop(self.fc1(x)))\n",
    "        x = F.relu(self.fc2(x))\n",
    "        x = F.log_softmax(x)\n",
    "        return x.view((10))\n",
    "    \n",
    "    def num_flat_features(self, x):\n",
    "        size = x.size()[1:] # all dimensions except the batch dimension\n",
    "        num_features = 1\n",
    "        for s in size:\n",
    "            num_features *= s\n",
    "        return num_features"
   ]
  },
  {
   "cell_type": "code",
   "execution_count": 27,
   "id": "51d2157b-9860-4162-9261-4752a6ae0a34",
   "metadata": {},
   "outputs": [
    {
     "name": "stdout",
     "output_type": "stream",
     "text": [
      "Epoch 1 starting\n"
     ]
    },
    {
     "name": "stderr",
     "output_type": "stream",
     "text": [
      "/tmp/ipykernel_200020/245547631.py:22: UserWarning: Implicit dimension choice for log_softmax has been deprecated. Change the call to include dim=X as an argument.\n",
      "  x = F.log_softmax(x)\n"
     ]
    },
    {
     "name": "stdout",
     "output_type": "stream",
     "text": [
      "Held out accuracy 0.3697 (2020.0007965758605 instances/sec)\n",
      "   T0    T1    T2    T3    T4    T5    T6    T7    T8    T9    \n",
      "P0 959   8     14    8     2     9     23    10    19    11    \n",
      "P1 0     0     0     0     0     0     0     0     0     0     \n",
      "P2 0     0     0     0     0     0     0     0     0     0     \n",
      "P3 0     0     0     0     0     0     0     0     0     0     \n",
      "P4 2     11    12    4     957   9     17    3     25    44    \n",
      "P5 0     0     0     0     0     0     0     0     0     0     \n",
      "P6 0     0     0     0     0     0     0     0     0     0     \n",
      "P7 0     0     0     0     0     0     2     0     0     0     \n",
      "P8 13    1110  1004  988   16    851   913   998   882   55    \n",
      "P9 6     6     2     10    7     23    3     17    48    899   \n",
      "instances per sec: 197.01721691919752\n",
      "Epoch 2 starting\n",
      "Held out accuracy 0.4639 (2269.8473181024306 instances/sec)\n",
      "   T0    T1    T2    T3    T4    T5    T6    T7    T8    T9    \n",
      "P0 956   10    12    1     1     16    10    9     36    9     \n",
      "P1 0     0     0     0     0     0     0     0     0     0     \n",
      "P2 0     0     0     0     0     0     0     0     0     0     \n",
      "P3 0     0     0     0     0     0     0     0     0     0     \n",
      "P4 4     14    4     1     948   6     1     4     13    17    \n",
      "P5 0     0     0     0     0     1     0     0     0     0     \n",
      "P6 9     10    5     1     7     29    928   1     28    1     \n",
      "P7 0     0     0     0     0     0     0     0     0     0     \n",
      "P8 8     1098  1008  989   12    817   19    988   859   35    \n",
      "P9 3     3     3     18    14    23    0     26    38    947   \n",
      "instances per sec: 216.429940155843\n",
      "Epoch 3 starting\n",
      "Held out accuracy 0.5618 (2323.8209845660494 instances/sec)\n",
      "   T0    T1    T2    T3    T4    T5    T6    T7    T8    T9    \n",
      "P0 956   9     8     2     1     14    10    0     20    4     \n",
      "P1 0     0     0     0     0     0     0     0     0     0     \n",
      "P2 0     0     0     0     0     0     0     0     0     0     \n",
      "P3 0     0     0     0     0     0     0     0     0     0     \n",
      "P4 2     17    9     6     945   16    5     2     13    13    \n",
      "P5 0     0     0     0     0     1     0     0     0     0     \n",
      "P6 6     6     1     1     8     15    921   0     5     1     \n",
      "P7 5     15    53    27    1     25    0     957   20    18    \n",
      "P8 9     1085  959   957   9     790   22    46    886   21    \n",
      "P9 2     3     2     17    18    31    0     23    30    952   \n",
      "instances per sec: 226.74641749560107\n",
      "Epoch 4 starting\n",
      "Held out accuracy 0.5604 (2245.3627839623978 instances/sec)\n",
      "   T0    T1    T2    T3    T4    T5    T6    T7    T8    T9    \n",
      "P0 942   6     8     3     1     5     9     2     15    3     \n",
      "P1 0     0     0     0     0     0     0     0     0     0     \n",
      "P2 0     0     0     0     0     0     0     0     0     0     \n",
      "P3 0     0     0     0     0     0     0     0     0     0     \n",
      "P4 1     3     6     2     943   5     4     2     14    31    \n",
      "P5 0     0     0     0     0     0     0     0     0     0     \n",
      "P6 17    11    11    2     10    23    934   1     32    2     \n",
      "P7 4     21    42    12    1     9     0     974   14    12    \n",
      "P8 12    1093  963   987   14    836   11    37    882   32    \n",
      "P9 4     1     2     4     13    14    0     12    17    929   \n",
      "instances per sec: 232.06130336224072\n"
     ]
    },
    {
     "data": {
      "image/png": "[encoded data removed]",
      "text/plain": [
       "<Figure size 432x288 with 1 Axes>"
      ]
     },
     "metadata": {
      "needs_background": "light"
     },
     "output_type": "display_data"
    }
   ],
   "source": [
    "classify = MNISTClassify().float()\n",
    "learning_rate = 0.01\n",
    "#optimizer = torch.optim.SGD(classify.parameters(), lr = learning_rate)\n",
    "optimizer = torch.optim.Adam(classify.parameters())\n",
    "#loss = nn.CrossEntropyLoss\n",
    "dev_time = 0\n",
    "plot_data = defaultdict(lambda : [])\n",
    "\n",
    "start = time.time()\n",
    "for epoch in range(1,5):\n",
    "    print((\"Epoch {} starting\".format(epoch)))\n",
    "    random.shuffle(training)\n",
    "    # train model:\n",
    "    for cls, img in training:\n",
    "        optimizer.zero_grad()\n",
    "        # Bild als Eingabe aufbereiten\n",
    "        x = torch.tensor(img).float()\n",
    "        # Outputaktivierung berechnen\n",
    "        output = classify(x, isTrain=True)\n",
    "        # \"idealen\" Output (überall 0, nur gewählte Klasse ist 1)\n",
    "        target = torch.zeros(10).long()\n",
    "        target[cls] = 1.0\n",
    "        # Kostenfunktion berechnen\n",
    "        #loss = torch.sum((output - target) ** 2)\n",
    "        loss  = nn.functional.nll_loss(output, torch.tensor(cls).long())\n",
    "        # Kosten den einzelnen Parametern zuordnen\n",
    "        plot_data[\"error\"].append(loss.item())\n",
    "        loss.backward()\n",
    "        # Parameter entsprechend anpassen\n",
    "        optimizer.step()\n",
    "\n",
    "    # test performance of classifier:\n",
    "    confusion = [[0 for _ in range(10)] for _ in range(10)]\n",
    "    correct = 0\n",
    "    dev_start = time.time()\n",
    "    for cls, img in testing:\n",
    "        optimizer.zero_grad()\n",
    "        x = torch.tensor(img).float()\n",
    "        output = classify(x, isTrain=False)\n",
    "        prediction = int(torch.topk(output, 1)[1].item())\n",
    "        if cls == prediction:\n",
    "            correct += 1\n",
    "        confusion[prediction][cls] += 1\n",
    "    dev_end = time.time()\n",
    "    acc = float(correct) / len(testing)\n",
    "    dev_time += dev_end - dev_start\n",
    "    print((\"Held out accuracy {} ({} instances/sec)\".format(\n",
    "        acc, len(testing) / (dev_end - dev_start))))\n",
    "    print('   ' + ''.join(('T'+str(x)).ljust(6) for x in range(10)))\n",
    "    for p, row in enumerate(confusion):\n",
    "        s = 'P' + str(p) + ' '\n",
    "        s += ''.join(str(col).ljust(6) for col in row)\n",
    "        print(s)\n",
    "\n",
    "    end = time.time()\n",
    "    print((\"instances per sec: {}\".format(\n",
    "                (epoch * len(training)) / (end - start - dev_time))))\n",
    "\n",
    "plot(plot_data)"
   ]
  },
  {
   "cell_type": "markdown",
   "id": "dc8f2fd5-c72a-4816-9b9f-4b46eb844b4d",
   "metadata": {},
   "source": [
    "Notes on differences between DyNet and PyTorch: \n",
    "* in DyNet, I register parameters without specifying the tensor that will be used for it; it will be automatically assigned.\n",
    "    * In PyTorch, I register a specific tensor. Smart as I am, I didn't assign a zeros-tensor -- instead I have to ponder about parameter initialization.\n",
    "    * It turns out that DyNet uses Glorot/Xavier initialization and some aspect of it depends on the following non-linearity. (wow!)\n",
    "    * I'll (roughly) replace with what DyNet does → yields pretty much identical results\n",
    "* instead of `*` for matrix multiplication, one has to write `@`. Okay.\n",
    "* Something that I did not quite understand about float() and double() with tensors.\n",
    "* DyNet is 5 times faster than PyTorch, wow! (I wonder what is causing this.)\n",
    "    * it's not the manually defined loss function\n",
    "    * it's not the use of parameters myself over using nn.Linear layers (which is still a little slower)"
   ]
  },
  {
   "cell_type": "code",
   "execution_count": 5,
   "id": "dbf63709-76c2-4fbe-9e8e-800f890b0ff5",
   "metadata": {},
   "outputs": [
    {
     "name": "stderr",
     "output_type": "stream",
     "text": [
      "[dynet] random seed: 1054449114\n",
      "[dynet] allocating memory: 512MB\n",
      "[dynet] memory allocation done.\n"
     ]
    },
    {
     "name": "stdout",
     "output_type": "stream",
     "text": [
      "Epoch 1 starting\n",
      "Held out accuracy 0.95 (13516.539965002627 instances/sec)\n",
      "   T0    T1    T2    T3    T4    T5    T6    T7    T8    T9    \n",
      "P0 970   0     10    1     3     11    15    2     5     9     \n",
      "P1 0     1114  2     0     0     0     3     7     1     6     \n",
      "P2 2     4     990   15    3     2     1     13    5     1     \n",
      "P3 1     3     4     947   0     18    1     2     13    7     \n",
      "P4 0     0     3     1     946   1     2     1     3     42    \n",
      "P5 3     1     0     10    0     825   6     1     7     14    \n",
      "P6 1     5     6     0     8     7     922   0     7     0     \n",
      "P7 2     2     9     15    7     3     1     1001  11    49    \n",
      "P8 1     6     8     20    4     23    7     0     922   18    \n",
      "P9 0     0     0     1     11    2     0     1     0     863   \n",
      "instances per sec: 8257.331566533325\n",
      "Epoch 2 starting\n",
      "Held out accuracy 0.9621 (13458.776899558723 instances/sec)\n",
      "   T0    T1    T2    T3    T4    T5    T6    T7    T8    T9    \n",
      "P0 969   0     6     1     1     4     9     1     5     1     \n",
      "P1 0     1105  0     0     1     1     2     4     1     4     \n",
      "P2 2     5     1007  16    4     3     5     12    5     2     \n",
      "P3 1     3     2     964   0     8     0     2     11    6     \n",
      "P4 0     0     1     2     950   0     5     2     3     24    \n",
      "P5 2     2     0     10    0     855   6     2     9     12    \n",
      "P6 4     1     3     0     6     5     923   0     3     2     \n",
      "P7 1     6     8     8     3     0     1     993   11    17    \n",
      "P8 1     13    5     9     4     13    7     1     922   8     \n",
      "P9 0     0     0     0     13    3     0     11    4     933   \n",
      "instances per sec: 8220.989827360456\n",
      "Epoch 3 starting\n",
      "Held out accuracy 0.9669 (13351.766816229147 instances/sec)\n",
      "   T0    T1    T2    T3    T4    T5    T6    T7    T8    T9    \n",
      "P0 965   0     5     0     2     3     6     2     3     2     \n",
      "P1 0     1122  2     0     2     1     3     6     1     10    \n",
      "P2 2     1     995   4     2     1     1     9     2     0     \n",
      "P3 2     3     7     971   1     10    1     5     6     7     \n",
      "P4 0     0     3     1     952   2     2     3     4     27    \n",
      "P5 2     2     1     5     1     852   4     2     6     5     \n",
      "P6 3     1     3     0     7     9     933   0     1     1     \n",
      "P7 2     1     7     10    4     1     1     997   3     12    \n",
      "P8 4     5     8     17    6     11    7     0     947   10    \n",
      "P9 0     0     1     2     5     2     0     4     1     935   \n",
      "instances per sec: 8212.925582626229\n",
      "Epoch 4 starting\n",
      "Held out accuracy 0.9649 (13447.38091642677 instances/sec)\n",
      "   T0    T1    T2    T3    T4    T5    T6    T7    T8    T9    \n",
      "P0 966   0     7     0     2     4     4     2     5     4     \n",
      "P1 0     1124  1     0     0     1     2     5     2     5     \n",
      "P2 2     3     1012  8     4     1     2     20    3     1     \n",
      "P3 4     2     3     988   1     24    1     6     11    13    \n",
      "P4 0     0     0     0     909   2     0     1     4     5     \n",
      "P5 0     1     0     1     0     844   4     0     6     6     \n",
      "P6 5     4     3     0     15    9     943   0     7     2     \n",
      "P7 1     0     3     6     5     2     0     971   3     5     \n",
      "P8 2     1     2     6     7     3     2     0     932   8     \n",
      "P9 0     0     1     1     39    2     0     23    1     960   \n",
      "instances per sec: 8203.387139847362\n"
     ]
    }
   ],
   "source": [
    "import dynet as dy\n",
    "dy.sigmoid = dy.logistic\n",
    "\n",
    "class MNISTClassify(object):\n",
    "    def __init__(self, m):\n",
    "        input_size = 28 * 28\n",
    "        self.W1 = m.add_parameters((HIDDEN_DIM1, input_size))\n",
    "        self.b1 = m.add_parameters((HIDDEN_DIM1, ))\n",
    "        self.W2 = m.add_parameters((HIDDEN_DIM2, HIDDEN_DIM1))\n",
    "        self.b2 = m.add_parameters((HIDDEN_DIM2, ))\n",
    "        self.W3 = m.add_parameters((10, HIDDEN_DIM2))\n",
    "        self.b3 = m.add_parameters((10, ))\n",
    "\n",
    "    def __call__(self, x, isTrain=False):\n",
    "        # erste innere Schicht:\n",
    "        h1 = dy.sigmoid(self.W1 * x + self.b1)\n",
    "        # zweite innere Schicht:\n",
    "        h2 = dy.sigmoid(self.W2 * h1 + self.b2)\n",
    "        # Ergebnisschicht:\n",
    "        activation = dy.sigmoid(self.W3 * h2 + self.b3)\n",
    "        return activation\n",
    "\n",
    "m = dy.Model()\n",
    "classify = MNISTClassify(m)\n",
    "#sgd = dy.SimpleSGDTrainer(m, learning_rate=0.01)\n",
    "sgd = dy.AdamTrainer(m)\n",
    "dev_time = 0\n",
    "\n",
    "start = time.time()\n",
    "for epoch in range(1,5):\n",
    "    random.shuffle(training)\n",
    "    print((\"Epoch {} starting\".format(epoch)))\n",
    "    # train model:\n",
    "    for cls, img in training:\n",
    "        dy.renew_cg()\n",
    "        # Bild als Eingabe aufbereiten\n",
    "        x = dy.inputVector(img)\n",
    "        # Outputaktivierung berechnen\n",
    "        output = classify(x, isTrain=True)\n",
    "        # \"idealen\" Output (überall 0, nur gewählte Klasse ist 1)\n",
    "        target = np.zeros(10)\n",
    "        target[cls] = 1\n",
    "        target = dy.inputVector(target)\n",
    "        # Kostenfunktion berechnen\n",
    "        loss = 0.5 * dy.sum_elems((output - target) ** 2)\n",
    "        # Kosten den einzelnen Parametern zuordnen\n",
    "        loss.backward()\n",
    "        # Parameter entsprechend anpassen\n",
    "        sgd.update()\n",
    "\n",
    "    # test performance of classifier:\n",
    "    confusion = [[0 for _ in range(10)] for _ in range(10)]\n",
    "    correct = 0\n",
    "    dev_start = time.time()\n",
    "    for cls, img in testing:\n",
    "        dy.renew_cg()\n",
    "        x = dy.inputVector(img)\n",
    "        output = classify(x, isTrain=False)\n",
    "        prediction = max([(v,i) for (i,v) in enumerate(output.value())])[1]\n",
    "        if cls == prediction:\n",
    "            correct += 1\n",
    "        confusion[prediction][cls] += 1\n",
    "    dev_end = time.time()\n",
    "    acc = float(correct) / len(testing)\n",
    "    dev_time += dev_end - dev_start\n",
    "    print((\"Held out accuracy {} ({} instances/sec)\".format(\n",
    "        acc, len(testing) / (dev_end - dev_start))))\n",
    "    print('   ' + ''.join(('T'+str(x)).ljust(6) for x in range(10)))\n",
    "    for p, row in enumerate(confusion):\n",
    "        s = 'P' + str(p) + ' '\n",
    "        s += ''.join(str(col).ljust(6) for col in row)\n",
    "        print(s)\n",
    "\n",
    "    end = time.time()\n",
    "    print((\"instances per sec: {}\".format(\n",
    "                (epoch * len(training)) / (end - start - dev_time))))"
   ]
  },
  {
   "cell_type": "code",
   "execution_count": null,
   "id": "1949e6e6-aed5-4536-bfae-b142e654e120",
   "metadata": {},
   "outputs": [],
   "source": []
  }
 ],
 "metadata": {
  "kernelspec": {
   "display_name": "Python 3 (ipykernel)",
   "language": "python",
   "name": "python3"
  },
  "language_info": {
   "codemirror_mode": {
    "name": "ipython",
    "version": 3
   },
   "file_extension": ".py",
   "mimetype": "text/x-python",
   "name": "python",
   "nbconvert_exporter": "python",
   "pygments_lexer": "ipython3",
   "version": "3.10.12"
  }
 },
 "nbformat": 4,
 "nbformat_minor": 5
}
